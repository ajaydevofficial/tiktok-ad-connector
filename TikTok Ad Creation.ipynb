{
 "cells": [
  {
   "cell_type": "code",
   "execution_count": 1,
   "metadata": {},
   "outputs": [],
   "source": [
    "import requests\n",
    "import json"
   ]
  },
  {
   "cell_type": "code",
   "execution_count": 2,
   "metadata": {},
   "outputs": [],
   "source": [
    "#TikTok App Credentials\n",
    "\n",
    "app_id = '1663862492277766'\n",
    "secret = '0765b89dbca1f9b60ba33a34870441ffbe8a9a2e'"
   ]
  },
  {
   "cell_type": "code",
   "execution_count": 3,
   "metadata": {},
   "outputs": [],
   "source": [
    "ad_create_url = \"https://ads.tiktok.com/open_api/2/ad/create/\""
   ]
  },
  {
   "cell_type": "code",
   "execution_count": 7,
   "metadata": {},
   "outputs": [],
   "source": [
    "#POST_DATA\n",
    "\n",
    "headers = {\n",
    "    \"content-type\" : \"application/json\",\n",
    "    \"access-token\" : \"973b65a16aeccf59ca309a57eaae14d21b7e3f67\" #Paste token after running Ad connector notebook\n",
    "}\n",
    "payload = json.dumps({\n",
    "    \"advertiser_id\": 6815218375543750661,\n",
    "    \"adgroup_id\": 1663958767864870,\n",
    "    \"creatives\": [\n",
    "        {\n",
    "            \"ad_text\": \"Perfotricks Creative text\",\n",
    "            \"ad_name\": \"Perforicks Creative name\",\n",
    "            \"call_to_action\": \"DOWNLOAD_NOW\",\n",
    "            \"image_mode\": \"IMAGE_MODE_LARGE\",\n",
    "            \"image_ids\": [\"3245627\"]\n",
    "        }\n",
    "    ]\n",
    "})"
   ]
  },
  {
   "cell_type": "code",
   "execution_count": 8,
   "metadata": {},
   "outputs": [],
   "source": [
    "response = requests.post(ad_create_url, data=payload,headers=headers)"
   ]
  },
  {
   "cell_type": "code",
   "execution_count": 9,
   "metadata": {},
   "outputs": [
    {
     "data": {
      "text/plain": [
       "b'{\"message\": \"You must upload an image.\", \"code\": 40001, \"data\": {}, \"request_id\": \"202004141447340101890560282A13C38A\"}'"
      ]
     },
     "execution_count": 9,
     "metadata": {},
     "output_type": "execute_result"
    }
   ],
   "source": [
    "response.content"
   ]
  },
  {
   "cell_type": "code",
   "execution_count": null,
   "metadata": {},
   "outputs": [],
   "source": []
  }
 ],
 "metadata": {
  "kernelspec": {
   "display_name": "Python 3",
   "language": "python",
   "name": "python3"
  },
  "language_info": {
   "codemirror_mode": {
    "name": "ipython",
    "version": 3
   },
   "file_extension": ".py",
   "mimetype": "text/x-python",
   "name": "python",
   "nbconvert_exporter": "python",
   "pygments_lexer": "ipython3",
   "version": "3.7.5"
  }
 },
 "nbformat": 4,
 "nbformat_minor": 4
}
