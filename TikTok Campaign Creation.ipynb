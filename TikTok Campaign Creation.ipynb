{
 "cells": [
  {
   "cell_type": "code",
   "execution_count": null,
   "metadata": {},
   "outputs": [],
   "source": [
    "\"\"\"\n",
    "Required Data for creating Campaign\n",
    "\n",
    "advertiser_id   - number - advertiser id\n",
    "campaign_name   - string - campaign name\n",
    "objective_type  - string - campaign campaign objective, for details, \n",
    "                           please refer to【appendix-campaign objective type（new）】\n",
    "                           Allowed values: \"TFAFFIC\",\"APP_INSTALL\",\"CONVERSIONS\",\"VIDEO_VIEWS\"\n",
    "\n",
    "budget_mode     - string - campaign budget type, for details, please refer to【appendix-budget type】\n",
    "\n",
    "budget(optional)- number - campaign budget(it is required,when budget_mode is BUDGET_MODE_DAY or BUDGET_MODE_TOTAL)\n",
    "                           Size range: [50, 10,000,000)\n",
    "                           * Campaign budget must not be lower than the maximum bid for all of its ad groups.\n",
    "                           Budget unit is determined by account currency.\n",
    "\"\"\""
   ]
  },
  {
   "cell_type": "code",
   "execution_count": 1,
   "metadata": {},
   "outputs": [],
   "source": [
    "import requests\n",
    "import json"
   ]
  },
  {
   "cell_type": "code",
   "execution_count": 2,
   "metadata": {},
   "outputs": [],
   "source": [
    "#TikTok App Credentials\n",
    "\n",
    "app_id = '1663862492277766'\n",
    "secret = '0765b89dbca1f9b60ba33a34870441ffbe8a9a2e'"
   ]
  },
  {
   "cell_type": "code",
   "execution_count": 17,
   "metadata": {},
   "outputs": [],
   "source": [
    "campaign_create_url = \"https://ads.tiktok.com/open_api/2/campaign/create/\""
   ]
  },
  {
   "cell_type": "code",
   "execution_count": 32,
   "metadata": {},
   "outputs": [],
   "source": [
    "#POST_DATA\n",
    "\n",
    "headers = {\n",
    "    \"content-type\" : \"application/json\",\n",
    "    \"access-token\" : \"973b65a16aeccf59ca309a57eaae14d21b7e3f67\" #Paste token after running Ad connector notebook\n",
    "}\n",
    "payload = json.dumps({\n",
    "    \"advertiser_id\"  : 6815218375543750661,\n",
    "    \"campaign_name\"  : \"Test Campaign #1 Unedited\",\n",
    "    \"objective_type\" : \"TRAFFIC\",\n",
    "    \"budget_mode\"    : \"BUDGET_MODE_DAY\",\n",
    "    \"budget\"         : 100\n",
    "})"
   ]
  },
  {
   "cell_type": "code",
   "execution_count": 33,
   "metadata": {},
   "outputs": [],
   "source": [
    "response = requests.post(campaign_create_url, data=payload,headers=headers)"
   ]
  },
  {
   "cell_type": "code",
   "execution_count": 34,
   "metadata": {},
   "outputs": [
    {
     "data": {
      "text/plain": [
       "b'{\"message\": \"Your budget setting must not be less than \\\\u20a85000.\", \"code\": 40001, \"data\": {}, \"request_id\": \"202004140850370101890492234607C5C4\"}'"
      ]
     },
     "execution_count": 34,
     "metadata": {},
     "output_type": "execute_result"
    }
   ],
   "source": [
    "response.content"
   ]
  },
  {
   "cell_type": "code",
   "execution_count": null,
   "metadata": {},
   "outputs": [],
   "source": []
  }
 ],
 "metadata": {
  "kernelspec": {
   "display_name": "Python 3",
   "language": "python",
   "name": "python3"
  },
  "language_info": {
   "codemirror_mode": {
    "name": "ipython",
    "version": 3
   },
   "file_extension": ".py",
   "mimetype": "text/x-python",
   "name": "python",
   "nbconvert_exporter": "python",
   "pygments_lexer": "ipython3",
   "version": "3.7.5"
  }
 },
 "nbformat": 4,
 "nbformat_minor": 4
}
