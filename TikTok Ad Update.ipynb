{
 "cells": [
  {
   "cell_type": "code",
   "execution_count": 10,
   "metadata": {},
   "outputs": [],
   "source": [
    "import requests\n",
    "import json"
   ]
  },
  {
   "cell_type": "code",
   "execution_count": 11,
   "metadata": {},
   "outputs": [],
   "source": [
    "#TikTok App Credentials\n",
    "\n",
    "app_id = '1663862492277766'\n",
    "secret = '0765b89dbca1f9b60ba33a34870441ffbe8a9a2e'"
   ]
  },
  {
   "cell_type": "code",
   "execution_count": 12,
   "metadata": {},
   "outputs": [],
   "source": [
    "ad_create_url = \"https://ads.tiktok.com/open_api/2/ad/update/\"\n",
    "ad_get_url    = \"https://ads.tiktok.com/open_api/2/ad/get/\""
   ]
  },
  {
   "cell_type": "code",
   "execution_count": 13,
   "metadata": {},
   "outputs": [],
   "source": [
    "#GET Data for retireving ads from adgroup\n",
    "payload = json.dumps({\n",
    "    \"advertiser_id\": 6815218375543750661\n",
    "})"
   ]
  },
  {
   "cell_type": "code",
   "execution_count": 14,
   "metadata": {},
   "outputs": [],
   "source": [
    "response = requests.get(ad_get_url, data=payload,headers=headers)"
   ]
  },
  {
   "cell_type": "code",
   "execution_count": 16,
   "metadata": {},
   "outputs": [
    {
     "data": {
      "text/plain": [
       "{'message': 'OK',\n",
       " 'code': 0,\n",
       " 'data': {'page_info': {'total_number': 1,\n",
       "   'page': 1,\n",
       "   'page_size': 10,\n",
       "   'total_page': 1},\n",
       "  'list': [{'status': 'AD_STATUS_ADVERTISER_AUDIT',\n",
       "    'ad_id': 1663959806753830,\n",
       "    'call_to_action': 'DOWNLOAD_NOW',\n",
       "    'ad_text': 'This is a Perfotricks test campaign ad',\n",
       "    'adgroup_name': 'Perfotricks test Ad Group unedited',\n",
       "    'video_id': '[]',\n",
       "    'campaign_id': 1663937190123557,\n",
       "    'advertiser_id': 6815218375543750661,\n",
       "    'image_ids': ['ad-site-i18n/202004145d0da89383dbce0c4e278464'],\n",
       "    'create_time': '2020-04-14 14:50:27',\n",
       "    'image_mode': 'IMAGE_MODE_LARGE',\n",
       "    'ad_name': 'Perfotricks Test',\n",
       "    'campaign_name': 'Test Campaign #1 Unedited',\n",
       "    'adgroup_id': 1663958767864870,\n",
       "    'modify_time': '2020-04-14 14:53:40'}]},\n",
       " 'request_id': '202004141502460101890560281714C125'}"
      ]
     },
     "execution_count": 16,
     "metadata": {},
     "output_type": "execute_result"
    }
   ],
   "source": [
    "#Ads in Adgroup\n",
    "response.json()"
   ]
  },
  {
   "cell_type": "code",
   "execution_count": 24,
   "metadata": {},
   "outputs": [],
   "source": [
    "#POST_DATA\n",
    "\n",
    "headers = {\n",
    "    \"content-type\" : \"application/json\",\n",
    "    \"access-token\" : \"973b65a16aeccf59ca309a57eaae14d21b7e3f67\" #Paste token after running Ad connector notebook\n",
    "}\n",
    "\n",
    "payload = json.dumps({\n",
    "    \"advertiser_id\": 6815218375543750661,\n",
    "    \"adgroup_id\": 1663958767864870,\n",
    "    \"creatives\": [\n",
    "        {\n",
    "            \"ad_id\"          : \"1663959806753830\",\n",
    "            \"ad_text\"        : \"Perfotricks Creative Edited\",\n",
    "            \"ad_name\"        : \"Perforicks Creative Edited name\",\n",
    "            \"image_ids\"      : ['ad-site-i18n/202004145d0da89383dbce0c4e278464'],\n",
    "            \"image_mode\"     : 'IMAGE_MODE_LARGE',\n",
    "            \"call_to_action\" : 'DOWNLOAD_NOW',\n",
    "        }\n",
    "    ]\n",
    "})"
   ]
  },
  {
   "cell_type": "code",
   "execution_count": 25,
   "metadata": {},
   "outputs": [],
   "source": [
    "response = requests.post(ad_create_url, data=payload,headers=headers)"
   ]
  },
  {
   "cell_type": "code",
   "execution_count": 26,
   "metadata": {},
   "outputs": [
    {
     "data": {
      "text/plain": [
       "b'{\"message\": \"OK\", \"code\": 0, \"data\": {\"need_audit\": false, \"ad_ids\": [1663959806753830]}, \"request_id\": \"202004141505310101890560283914E8F9\"}'"
      ]
     },
     "execution_count": 26,
     "metadata": {},
     "output_type": "execute_result"
    }
   ],
   "source": [
    "response.content"
   ]
  },
  {
   "cell_type": "code",
   "execution_count": null,
   "metadata": {},
   "outputs": [],
   "source": []
  }
 ],
 "metadata": {
  "kernelspec": {
   "display_name": "Python 3",
   "language": "python",
   "name": "python3"
  },
  "language_info": {
   "codemirror_mode": {
    "name": "ipython",
    "version": 3
   },
   "file_extension": ".py",
   "mimetype": "text/x-python",
   "name": "python",
   "nbconvert_exporter": "python",
   "pygments_lexer": "ipython3",
   "version": "3.7.5"
  }
 },
 "nbformat": 4,
 "nbformat_minor": 4
}
