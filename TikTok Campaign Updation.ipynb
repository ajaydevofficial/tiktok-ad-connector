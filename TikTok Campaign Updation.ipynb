{
 "cells": [
  {
   "cell_type": "code",
   "execution_count": 1,
   "metadata": {},
   "outputs": [],
   "source": [
    "import requests\n",
    "import json"
   ]
  },
  {
   "cell_type": "code",
   "execution_count": 2,
   "metadata": {},
   "outputs": [],
   "source": [
    "#TikTok App Credentials\n",
    "\n",
    "app_id = '1663862492277766'\n",
    "secret = '0765b89dbca1f9b60ba33a34870441ffbe8a9a2e'"
   ]
  },
  {
   "cell_type": "code",
   "execution_count": 3,
   "metadata": {},
   "outputs": [],
   "source": [
    "campaign_create_url = \"https://ads.tiktok.com/open_api/2/campaign/update/\""
   ]
  },
  {
   "cell_type": "code",
   "execution_count": 8,
   "metadata": {},
   "outputs": [],
   "source": [
    "#POST_DATA\n",
    "\n",
    "headers = {\n",
    "    \"content-type\" : \"application/json\",\n",
    "    \"access-token\" : \"973b65a16aeccf59ca309a57eaae14d21b7e3f67\" #Paste token after running Ad connector notebook\n",
    "}\n",
    "payload = json.dumps({\n",
    "    \"campaign_id\"    : 1663937190123557,\n",
    "    \"advertiser_id\"  : 6815218375543750661,\n",
    "    \"campaign_name\"  : \"Test Campaign #1 Edited\",\n",
    "    \"objective_type\" : \"TRAFFIC\",\n",
    "    \"budget_mode\"    : \"BUDGET_MODE_DAY\",\n",
    "    \"budget\"         : 10000\n",
    "})"
   ]
  },
  {
   "cell_type": "code",
   "execution_count": 9,
   "metadata": {},
   "outputs": [],
   "source": [
    "response = requests.post(campaign_create_url, data=payload,headers=headers)"
   ]
  },
  {
   "cell_type": "code",
   "execution_count": 10,
   "metadata": {},
   "outputs": [
    {
     "data": {
      "text/plain": [
       "{'message': 'OK',\n",
       " 'code': 0,\n",
       " 'data': {},\n",
       " 'request_id': '202004141538550101890492232016D5ED'}"
      ]
     },
     "execution_count": 10,
     "metadata": {},
     "output_type": "execute_result"
    }
   ],
   "source": [
    "response.json()"
   ]
  },
  {
   "cell_type": "code",
   "execution_count": null,
   "metadata": {},
   "outputs": [],
   "source": []
  }
 ],
 "metadata": {
  "kernelspec": {
   "display_name": "Python 3",
   "language": "python",
   "name": "python3"
  },
  "language_info": {
   "codemirror_mode": {
    "name": "ipython",
    "version": 3
   },
   "file_extension": ".py",
   "mimetype": "text/x-python",
   "name": "python",
   "nbconvert_exporter": "python",
   "pygments_lexer": "ipython3",
   "version": "3.7.5"
  }
 },
 "nbformat": 4,
 "nbformat_minor": 4
}
