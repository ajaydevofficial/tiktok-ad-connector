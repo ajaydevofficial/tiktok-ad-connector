{
 "cells": [
  {
   "cell_type": "code",
   "execution_count": 1,
   "metadata": {},
   "outputs": [],
   "source": [
    "import requests\n",
    "import json"
   ]
  },
  {
   "cell_type": "code",
   "execution_count": 8,
   "metadata": {},
   "outputs": [],
   "source": [
    "#Refresh Token\n",
    "\n",
    "refresh_token = 'a7c50752d4be97a614efff4ea2f0e7cf5c28cc08' #Paste latest refresh token\n",
    "refresh_token_url = 'https://ads.tiktok.com/open_api/oauth2/refresh_token/'\n",
    "#---------------------------------------------------------------------------------\n",
    "\n",
    "#TikTok App Credentials\n",
    "\n",
    "app_id = '1663862492277766'\n",
    "secret = '0765b89dbca1f9b60ba33a34870441ffbe8a9a2e'\n",
    "#---------------------------------------------------------------------------------\n",
    "\n",
    "grant_type = 'refresh_token'"
   ]
  },
  {
   "cell_type": "code",
   "execution_count": 9,
   "metadata": {},
   "outputs": [],
   "source": [
    "#POST Data\n",
    "\n",
    "headers = {'content-type': 'application/json'}\n",
    "payload = json.dumps({\n",
    "    \"app_id\":app_id,\n",
    "    \"secret\":secret,\n",
    "    \"grant_type\":grant_type,\n",
    "    \"refresh_token\":refresh_token\n",
    "})\n"
   ]
  },
  {
   "cell_type": "code",
   "execution_count": 10,
   "metadata": {},
   "outputs": [],
   "source": [
    "response = requests.post(refresh_token_url, data=payload, headers=headers)"
   ]
  },
  {
   "cell_type": "code",
   "execution_count": 11,
   "metadata": {},
   "outputs": [
    {
     "data": {
      "text/plain": [
       "{'message': 'OK',\n",
       " 'code': 0,\n",
       " 'data': {'access_token': '2c44c06058e518d084110fc918a53ee2e0408085',\n",
       "  'refresh_token_expires_in': 2591999,\n",
       "  'expires_in': 86399,\n",
       "  'refresh_token': 'f156c4ba26975e9e88f62c92d323bc49fe6257dd'},\n",
       " 'request_id': '2020041415580501018904922356189CCE'}"
      ]
     },
     "execution_count": 11,
     "metadata": {},
     "output_type": "execute_result"
    }
   ],
   "source": [
    "response_decoded = response.json()\n"
   ]
  },
  {
   "cell_type": "code",
   "execution_count": 12,
   "metadata": {},
   "outputs": [
    {
     "data": {
      "text/plain": [
       "{'access_token': '2c44c06058e518d084110fc918a53ee2e0408085',\n",
       " 'refresh_token_expires_in': 2591999,\n",
       " 'expires_in': 86399,\n",
       " 'refresh_token': 'f156c4ba26975e9e88f62c92d323bc49fe6257dd'}"
      ]
     },
     "execution_count": 12,
     "metadata": {},
     "output_type": "execute_result"
    }
   ],
   "source": [
    "response_data = response_decoded[\"data\"]\n",
    "response_data"
   ]
  },
  {
   "cell_type": "code",
   "execution_count": 47,
   "metadata": {},
   "outputs": [],
   "source": [
    "refresh_token = response_data[\"refresh_token\"]\n",
    "access_token = response_data[\"access_token\"]\n",
    "advertiser_ids = response_data[\"advertiser_ids\"] "
   ]
  },
  {
   "cell_type": "code",
   "execution_count": null,
   "metadata": {},
   "outputs": [],
   "source": []
  }
 ],
 "metadata": {
  "kernelspec": {
   "display_name": "Python 3",
   "language": "python",
   "name": "python3"
  },
  "language_info": {
   "codemirror_mode": {
    "name": "ipython",
    "version": 3
   },
   "file_extension": ".py",
   "mimetype": "text/x-python",
   "name": "python",
   "nbconvert_exporter": "python",
   "pygments_lexer": "ipython3",
   "version": "3.7.5"
  }
 },
 "nbformat": 4,
 "nbformat_minor": 4
}
