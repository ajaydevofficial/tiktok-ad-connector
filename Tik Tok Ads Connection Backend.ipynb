{
 "cells": [
  {
   "cell_type": "code",
   "execution_count": 13,
   "metadata": {},
   "outputs": [],
   "source": [
    "import requests\n",
    "import json"
   ]
  },
  {
   "cell_type": "code",
   "execution_count": 14,
   "metadata": {},
   "outputs": [],
   "source": [
    "#Auth Code \n",
    "\n",
    "auth_code = '23ce8f28a25f13f24311c89f96c09fbbe55aaaa4'\n",
    "refresh_token_url = 'https://ads.tiktok.com/open_api/oauth2/access_token/'\n",
    "#---------------------------------------------------------------------------------\n",
    "\n",
    "#TikTok App Credentials\n",
    "\n",
    "app_id = '1663862492277766'\n",
    "secret = '0765b89dbca1f9b60ba33a34870441ffbe8a9a2e'\n",
    "#---------------------------------------------------------------------------------\n",
    "\n",
    "grant_type = 'auth_code'"
   ]
  },
  {
   "cell_type": "code",
   "execution_count": 15,
   "metadata": {},
   "outputs": [],
   "source": [
    "#POST Data\n",
    "\n",
    "headers = {'content-type': 'application/json'}\n",
    "payload = json.dumps({\n",
    "    \"app_id\":app_id,\n",
    "    \"secret\":secret,\n",
    "    \"grant_type\":grant_type,\n",
    "    \"auth_code\":auth_code\n",
    "})\n"
   ]
  },
  {
   "cell_type": "code",
   "execution_count": 16,
   "metadata": {},
   "outputs": [],
   "source": [
    "response = requests.post(refresh_token_url, data=payload, headers=headers)"
   ]
  },
  {
   "cell_type": "code",
   "execution_count": 39,
   "metadata": {},
   "outputs": [],
   "source": [
    "response_decoded = json.loads(response.content.decode('utf-8')) "
   ]
  },
  {
   "cell_type": "code",
   "execution_count": 44,
   "metadata": {},
   "outputs": [
    {
     "data": {
      "text/plain": [
       "{'advertiser_id': 0,\n",
       " 'advertiser_name': '',\n",
       " 'access_token': '973b65a16aeccf59ca309a57eaae14d21b7e3f67',\n",
       " 'refresh_token_expires_in': 2591999,\n",
       " 'advertiser_ids': [6815218375543750661],\n",
       " 'expires_in': 86399,\n",
       " 'refresh_token': 'a7c50752d4be97a614efff4ea2f0e7cf5c28cc08'}"
      ]
     },
     "execution_count": 44,
     "metadata": {},
     "output_type": "execute_result"
    }
   ],
   "source": [
    "response_data = response_decoded[\"data\"]\n",
    "response_data"
   ]
  },
  {
   "cell_type": "code",
   "execution_count": 47,
   "metadata": {},
   "outputs": [],
   "source": [
    "refresh_token = response_data[\"refresh_token\"]\n",
    "access_token = response_data[\"access_token\"]\n",
    "advertiser_ids = response_data[\"advertiser_ids\"] "
   ]
  },
  {
   "cell_type": "code",
   "execution_count": null,
   "metadata": {},
   "outputs": [],
   "source": []
  }
 ],
 "metadata": {
  "kernelspec": {
   "display_name": "Python 3",
   "language": "python",
   "name": "python3"
  },
  "language_info": {
   "codemirror_mode": {
    "name": "ipython",
    "version": 3
   },
   "file_extension": ".py",
   "mimetype": "text/x-python",
   "name": "python",
   "nbconvert_exporter": "python",
   "pygments_lexer": "ipython3",
   "version": "3.7.5"
  }
 },
 "nbformat": 4,
 "nbformat_minor": 4
}
