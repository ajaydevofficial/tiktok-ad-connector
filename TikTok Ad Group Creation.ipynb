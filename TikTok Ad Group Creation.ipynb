{
 "cells": [
  {
   "cell_type": "code",
   "execution_count": 1,
   "metadata": {},
   "outputs": [],
   "source": [
    "import requests\n",
    "import json"
   ]
  },
  {
   "cell_type": "code",
   "execution_count": 2,
   "metadata": {},
   "outputs": [],
   "source": [
    "#TikTok App Credentials\n",
    "\n",
    "app_id = '1663862492277766'\n",
    "secret = '0765b89dbca1f9b60ba33a34870441ffbe8a9a2e'"
   ]
  },
  {
   "cell_type": "code",
   "execution_count": 3,
   "metadata": {},
   "outputs": [],
   "source": [
    "ad_group_create_url = \"https://ads.tiktok.com/open_api/2/adgroup/create/\""
   ]
  },
  {
   "cell_type": "code",
   "execution_count": 21,
   "metadata": {},
   "outputs": [],
   "source": [
    "#POST Data\n",
    "headers = {\n",
    "    \"content-type\" : \"application/json\",\n",
    "    \"access-token\" : \"973b65a16aeccf59ca309a57eaae14d21b7e3f67\" #Paste token after running Ad connector notebook\n",
    "}\n",
    "\n",
    "payload = json.dumps({\n",
    "    \"advertiser_id\"      : 6815218375543750661,\n",
    "    \"adgroup_name\"       : \"Perfotricks test Ad Group unedited\",\n",
    "    \"campaign_id\"        : \"1663937190123557\",\n",
    "    \"placement_type\"     : \"PLACEMENT_TYPE_AUTOMATIC\",\n",
    "    \"landing_page_url\"   : \"https://dev.perfotricks.com\",\n",
    "    \"display_name\"       : \"Perfotricks Developer Test\",\n",
    "    \"keywords\"           : [\"performance\",\"perfotricks\",\"marketing\"],\n",
    "    \"category\"           : 51,\n",
    "    \"location\"           : [1270668, 1253102],\n",
    "    \"languages\"          : [\"ml\",\"kn\",\"bn\"],\n",
    "    \"schedule_type\"      : \"SCHEDULE_START_END\",\n",
    "    \"schedule_start_time\": \"2020-04-26 01:00:00\",\n",
    "    \"schedule_end_time\"  : \"2020-04-30 01:00:00\",\n",
    "    \"budget_mode\"        : \"BUDGET_MODE_DAY\",\n",
    "    \"budget\"             : 100000,\n",
    "    \"billing_event\"      : \"CPC\",\n",
    "    \"pacing\"             : \"PACING_MODE_FAST\",\n",
    "    \"bid\"                : 5,\n",
    "    \"optimize_goal\"      : \"CLICK\"\n",
    "})"
   ]
  },
  {
   "cell_type": "code",
   "execution_count": 22,
   "metadata": {},
   "outputs": [],
   "source": [
    "response = requests.post(ad_group_create_url, data=payload, headers=headers)\n",
    "response_data = response.json()"
   ]
  },
  {
   "cell_type": "code",
   "execution_count": 23,
   "metadata": {},
   "outputs": [
    {
     "data": {
      "text/plain": [
       "{'message': 'OK',\n",
       " 'code': 0,\n",
       " 'data': {'adgroup_id': 1663958767864870},\n",
       " 'request_id': '202004141433530101890492230E129FC7'}"
      ]
     },
     "execution_count": 23,
     "metadata": {},
     "output_type": "execute_result"
    }
   ],
   "source": [
    "response_data"
   ]
  },
  {
   "cell_type": "code",
   "execution_count": null,
   "metadata": {},
   "outputs": [],
   "source": []
  }
 ],
 "metadata": {
  "kernelspec": {
   "display_name": "Python 3",
   "language": "python",
   "name": "python3"
  },
  "language_info": {
   "codemirror_mode": {
    "name": "ipython",
    "version": 3
   },
   "file_extension": ".py",
   "mimetype": "text/x-python",
   "name": "python",
   "nbconvert_exporter": "python",
   "pygments_lexer": "ipython3",
   "version": "3.7.5"
  }
 },
 "nbformat": 4,
 "nbformat_minor": 4
}
